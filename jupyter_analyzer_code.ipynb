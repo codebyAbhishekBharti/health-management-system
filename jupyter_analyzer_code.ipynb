{
 "cells": [
  {
   "cell_type": "code",
   "execution_count": 9,
   "id": "7882dd84",
   "metadata": {},
   "outputs": [],
   "source": [
    "import pandas as pd\n",
    "from datetime import datetime,timedelta"
   ]
  },
  {
   "cell_type": "code",
   "execution_count": 10,
   "id": "771b7a61",
   "metadata": {},
   "outputs": [],
   "source": [
    "df=pd.read_csv(\"refined_data.csv\")"
   ]
  },
  {
   "cell_type": "code",
   "execution_count": 11,
   "id": "86292f7c",
   "metadata": {},
   "outputs": [
    {
     "name": "stdout",
     "output_type": "stream",
     "text": [
      "<bound method NDFrame.head of             DATE START TIME  END TIME  USAGE      APPLICATION\n",
      "0     11-01-2023   11:49:42  11:50:34     52           Thunar\n",
      "1     11-01-2023   11:50:34  11:50:51     17        xfdesktop\n",
      "2     11-01-2023   11:50:51  11:50:53      2  panel-1-whisker\n",
      "3     11-01-2023   11:50:53  11:52:16     83     sublime_text\n",
      "4     11-01-2023   11:52:16  11:52:20      4  panel-1-whisker\n",
      "...          ...        ...       ...    ...              ...\n",
      "1497  25-01-2023   14:05:53  14:05:54      1           Thunar\n",
      "1498  25-01-2023   14:05:54  14:05:56      2     sublime_text\n",
      "1499  25-01-2023   14:05:56  14:05:57      1           Thunar\n",
      "1500  25-01-2023   14:05:57  14:05:58      1     sublime_text\n",
      "1501  25-01-2023   14:05:58  14:05:59      1        qterminal\n",
      "\n",
      "[1502 rows x 5 columns]>\n"
     ]
    }
   ],
   "source": [
    "print(df.head)"
   ]
  },
  {
   "cell_type": "markdown",
   "id": "e20b0c3d",
   "metadata": {},
   "source": [
    "# Show the pie chart of the current day computer usage in pie chart"
   ]
  },
  {
   "cell_type": "code",
   "execution_count": 17,
   "id": "49115ad6",
   "metadata": {},
   "outputs": [],
   "source": [
    "today = datetime.now().strftime(\"%d-%m-%Y\")"
   ]
  },
  {
   "cell_type": "code",
   "execution_count": 19,
   "id": "45c093b7",
   "metadata": {},
   "outputs": [],
   "source": [
    "today_data=df.loc[(df['DATE']==today),['USAGE','APPLICATION']]"
   ]
  },
  {
   "cell_type": "code",
   "execution_count": 20,
   "id": "8636bb0b",
   "metadata": {},
   "outputs": [
    {
     "data": {
      "text/plain": [
       "APPLICATION\n",
       "Thunar                 70\n",
       "engrampa               15\n",
       "firefox-esr          6883\n",
       "gnome-calculator       49\n",
       "nm-applet             170\n",
       "panel-1-whisker        15\n",
       "qterminal             186\n",
       "soffice.bin            54\n",
       "sqlitebrowser          19\n",
       "sublime_text         2040\n",
       "xfdesktop           40096\n",
       "Name: USAGE, dtype: int64"
      ]
     },
     "execution_count": 20,
     "metadata": {},
     "output_type": "execute_result"
    }
   ],
   "source": [
    "today_data.groupby('APPLICATION')['USAGE'].sum()"
   ]
  },
  {
   "cell_type": "code",
   "execution_count": null,
   "id": "7c797264",
   "metadata": {},
   "outputs": [],
   "source": []
  }
 ],
 "metadata": {
  "kernelspec": {
   "display_name": "Python 3 (ipykernel)",
   "language": "python",
   "name": "python3"
  },
  "language_info": {
   "codemirror_mode": {
    "name": "ipython",
    "version": 3
   },
   "file_extension": ".py",
   "mimetype": "text/x-python",
   "name": "python",
   "nbconvert_exporter": "python",
   "pygments_lexer": "ipython3",
   "version": "3.10.9"
  }
 },
 "nbformat": 4,
 "nbformat_minor": 5
}
