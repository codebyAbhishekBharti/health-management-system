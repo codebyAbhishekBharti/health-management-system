{
 "cells": [
  {
   "cell_type": "code",
   "execution_count": 1,
   "id": "7882dd84",
   "metadata": {},
   "outputs": [],
   "source": [
    "import pandas as pd\n",
    "from datetime import datetime,timedelta\n",
    "import matplotlib.pyplot as plt"
   ]
  },
  {
   "cell_type": "code",
   "execution_count": 2,
   "id": "771b7a61",
   "metadata": {},
   "outputs": [],
   "source": [
    "df=pd.read_csv(\"refined_data.csv\")"
   ]
  },
  {
   "cell_type": "code",
   "execution_count": 3,
   "id": "86292f7c",
   "metadata": {},
   "outputs": [
    {
     "name": "stdout",
     "output_type": "stream",
     "text": [
      "<bound method NDFrame.head of             DATE START TIME  END TIME  USAGE      APPLICATION\n",
      "0     11-01-2023   11:49:42  11:50:34     52           Thunar\n",
      "1     11-01-2023   11:50:34  11:50:51     17        xfdesktop\n",
      "2     11-01-2023   11:50:51  11:50:53      2  panel-1-whisker\n",
      "3     11-01-2023   11:50:53  11:52:16     83     sublime_text\n",
      "4     11-01-2023   11:52:16  11:52:20      4  panel-1-whisker\n",
      "...          ...        ...       ...    ...              ...\n",
      "1497  25-01-2023   14:05:53  14:05:54      1           Thunar\n",
      "1498  25-01-2023   14:05:54  14:05:56      2     sublime_text\n",
      "1499  25-01-2023   14:05:56  14:05:57      1           Thunar\n",
      "1500  25-01-2023   14:05:57  14:05:58      1     sublime_text\n",
      "1501  25-01-2023   14:05:58  14:05:59      1        qterminal\n",
      "\n",
      "[1502 rows x 5 columns]>\n"
     ]
    }
   ],
   "source": [
    "print(df.head)"
   ]
  },
  {
   "cell_type": "markdown",
   "id": "e20b0c3d",
   "metadata": {},
   "source": [
    "# Show the pie chart of the current day computer usage in pie chart"
   ]
  },
  {
   "cell_type": "code",
   "execution_count": 4,
   "id": "49115ad6",
   "metadata": {},
   "outputs": [],
   "source": [
    "# today = datetime.now().strftime(\"%d-%m-%Y\")\n",
    "today=\"25-01-2023\""
   ]
  },
  {
   "cell_type": "code",
   "execution_count": 5,
   "id": "45c093b7",
   "metadata": {},
   "outputs": [
    {
     "data": {
      "text/html": [
       "<div>\n",
       "<style scoped>\n",
       "    .dataframe tbody tr th:only-of-type {\n",
       "        vertical-align: middle;\n",
       "    }\n",
       "\n",
       "    .dataframe tbody tr th {\n",
       "        vertical-align: top;\n",
       "    }\n",
       "\n",
       "    .dataframe thead th {\n",
       "        text-align: right;\n",
       "    }\n",
       "</style>\n",
       "<table border=\"1\" class=\"dataframe\">\n",
       "  <thead>\n",
       "    <tr style=\"text-align: right;\">\n",
       "      <th></th>\n",
       "      <th>USAGE</th>\n",
       "      <th>APPLICATION</th>\n",
       "    </tr>\n",
       "  </thead>\n",
       "  <tbody>\n",
       "    <tr>\n",
       "      <th>1365</th>\n",
       "      <td>12</td>\n",
       "      <td>engrampa</td>\n",
       "    </tr>\n",
       "    <tr>\n",
       "      <th>1366</th>\n",
       "      <td>20</td>\n",
       "      <td>firefox-esr</td>\n",
       "    </tr>\n",
       "    <tr>\n",
       "      <th>1367</th>\n",
       "      <td>3</td>\n",
       "      <td>Thunar</td>\n",
       "    </tr>\n",
       "    <tr>\n",
       "      <th>1368</th>\n",
       "      <td>3</td>\n",
       "      <td>engrampa</td>\n",
       "    </tr>\n",
       "    <tr>\n",
       "      <th>1369</th>\n",
       "      <td>23</td>\n",
       "      <td>Thunar</td>\n",
       "    </tr>\n",
       "    <tr>\n",
       "      <th>...</th>\n",
       "      <td>...</td>\n",
       "      <td>...</td>\n",
       "    </tr>\n",
       "    <tr>\n",
       "      <th>1497</th>\n",
       "      <td>1</td>\n",
       "      <td>Thunar</td>\n",
       "    </tr>\n",
       "    <tr>\n",
       "      <th>1498</th>\n",
       "      <td>2</td>\n",
       "      <td>sublime_text</td>\n",
       "    </tr>\n",
       "    <tr>\n",
       "      <th>1499</th>\n",
       "      <td>1</td>\n",
       "      <td>Thunar</td>\n",
       "    </tr>\n",
       "    <tr>\n",
       "      <th>1500</th>\n",
       "      <td>1</td>\n",
       "      <td>sublime_text</td>\n",
       "    </tr>\n",
       "    <tr>\n",
       "      <th>1501</th>\n",
       "      <td>1</td>\n",
       "      <td>qterminal</td>\n",
       "    </tr>\n",
       "  </tbody>\n",
       "</table>\n",
       "<p>134 rows × 2 columns</p>\n",
       "</div>"
      ],
      "text/plain": [
       "      USAGE   APPLICATION\n",
       "1365     12      engrampa\n",
       "1366     20   firefox-esr\n",
       "1367      3        Thunar\n",
       "1368      3      engrampa\n",
       "1369     23        Thunar\n",
       "...     ...           ...\n",
       "1497      1        Thunar\n",
       "1498      2  sublime_text\n",
       "1499      1        Thunar\n",
       "1500      1  sublime_text\n",
       "1501      1     qterminal\n",
       "\n",
       "[134 rows x 2 columns]"
      ]
     },
     "execution_count": 5,
     "metadata": {},
     "output_type": "execute_result"
    }
   ],
   "source": [
    "today_data=df.loc[(df['DATE']==today)&(df['APPLICATION']!='xfdesktop'),['USAGE','APPLICATION']]\n",
    "today_data"
   ]
  },
  {
   "cell_type": "code",
   "execution_count": 17,
   "id": "8e371c84",
   "metadata": {},
   "outputs": [
    {
     "name": "stdout",
     "output_type": "stream",
     "text": [
      "      USAGE       APPLICATION\n",
      "1365     12          engrampa\n",
      "1366     20       firefox-esr\n",
      "1367      3            Thunar\n",
      "1368      3          engrampa\n",
      "1369     23            Thunar\n",
      "1370    245       firefox-esr\n",
      "1371      1      sublime_text\n",
      "1372    182       firefox-esr\n",
      "1373      6   panel-1-whisker\n",
      "1374      1       firefox-esr\n",
      "1375     19     sqlitebrowser\n",
      "1376      2   panel-1-whisker\n",
      "1377      1       firefox-esr\n",
      "1378     44         qterminal\n",
      "1380      2         qterminal\n",
      "1383      2   panel-1-whisker\n",
      "1384      2      sublime_text\n",
      "1386    315      sublime_text\n",
      "1388    381      sublime_text\n",
      "1390    341      sublime_text\n",
      "1392     18         qterminal\n",
      "1394      2         qterminal\n",
      "1396      1         qterminal\n",
      "1434     19            Thunar\n",
      "1436      2            Thunar\n",
      "1438      2            Thunar\n",
      "1442     52       soffice.bin\n",
      "1444      2       soffice.bin\n",
      "1451      2   panel-1-whisker\n",
      "1489    170         nm-applet\n",
      "1491      3   panel-1-whisker\n",
      "1492     49  gnome-calculator\n"
     ]
    }
   ],
   "source": [
    "data=today_data.groupby('APPLICATION')\n",
    "print(data.head())"
   ]
  },
  {
   "cell_type": "code",
   "execution_count": 14,
   "id": "8636bb0b",
   "metadata": {},
   "outputs": [
    {
     "name": "stdout",
     "output_type": "stream",
     "text": [
      "APPLICATION\n",
      "firefox-esr         6883\n",
      "sublime_text        2040\n",
      "qterminal            186\n",
      "nm-applet            170\n",
      "Thunar                70\n",
      "soffice.bin           54\n",
      "gnome-calculator      49\n",
      "sqlitebrowser         19\n",
      "engrampa              15\n",
      "panel-1-whisker       15\n",
      "Name: USAGE, dtype: int64\n"
     ]
    }
   ],
   "source": [
    "data=today_data.groupby('APPLICATION')['USAGE'].sum()\n",
    "# print(data)\n",
    "data=data.sort_values(ascending=False)\n",
    "print(data)\n",
    "# print(data.to_numpy())"
   ]
  },
  {
   "cell_type": "code",
   "execution_count": 10,
   "id": "ed31bdba",
   "metadata": {},
   "outputs": [
    {
     "data": {
      "text/plain": [
       "9349"
      ]
     },
     "execution_count": 10,
     "metadata": {},
     "output_type": "execute_result"
    }
   ],
   "source": [
    "data2=data[:5]\n",
    "data3=data[5:]\n",
    "# print(data3)\n",
    "# data3.sum()\n",
    "# data2.shape\n",
    "# data3.shape\n",
    "data2.sum()"
   ]
  },
  {
   "cell_type": "code",
   "execution_count": null,
   "id": "7c797264",
   "metadata": {},
   "outputs": [],
   "source": []
  },
  {
   "cell_type": "code",
   "execution_count": null,
   "id": "266fdcdf",
   "metadata": {},
   "outputs": [],
   "source": []
  }
 ],
 "metadata": {
  "kernelspec": {
   "display_name": "Python 3 (ipykernel)",
   "language": "python",
   "name": "python3"
  },
  "language_info": {
   "codemirror_mode": {
    "name": "ipython",
    "version": 3
   },
   "file_extension": ".py",
   "mimetype": "text/x-python",
   "name": "python",
   "nbconvert_exporter": "python",
   "pygments_lexer": "ipython3",
   "version": "3.10.9"
  }
 },
 "nbformat": 4,
 "nbformat_minor": 5
}
