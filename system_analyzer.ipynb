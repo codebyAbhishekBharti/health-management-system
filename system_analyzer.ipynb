{
 "cells": [
  {
   "cell_type": "code",
   "execution_count": 2,
   "id": "7c60f8d2",
   "metadata": {},
   "outputs": [],
   "source": [
    "import pandas as pd\n",
    "from datetime import datetime"
   ]
  },
  {
   "cell_type": "code",
   "execution_count": 3,
   "id": "f9f7e2d2",
   "metadata": {},
   "outputs": [],
   "source": [
    "df=pd.read_csv(\"app_data.log\") #location of log file"
   ]
  },
  {
   "cell_type": "code",
   "execution_count": 4,
   "id": "79d8c5cb",
   "metadata": {},
   "outputs": [
    {
     "name": "stdout",
     "output_type": "stream",
     "text": [
      "         DATE      TIME APPLICATION\n",
      "0  12-06-2023  12:05:01    nautilus\n",
      "1  12-06-2023  12:05:03    nautilus\n",
      "2  12-06-2023  12:05:04       gedit\n",
      "3  12-06-2023  12:05:05       gedit\n",
      "4  12-06-2023  12:05:06       gedit\n"
     ]
    }
   ],
   "source": [
    "print(df.head(5))"
   ]
  },
  {
   "cell_type": "markdown",
   "id": "087c077b",
   "metadata": {},
   "source": [
    "# Data Cleaning"
   ]
  },
  {
   "cell_type": "code",
   "execution_count": 5,
   "id": "7a211404",
   "metadata": {
    "scrolled": true
   },
   "outputs": [
    {
     "name": "stdout",
     "output_type": "stream",
     "text": [
      "          DATE START_TIME  END_TIME  USAGE            APPLICATION\n",
      "0   12-06-2023   12:05:01  12:05:03      2               nautilus\n",
      "1   12-06-2023   12:05:04  12:05:07      3                  gedit\n",
      "2   12-06-2023   12:05:08  12:05:08      0               nautilus\n",
      "3   12-06-2023   12:05:09  12:05:10      1                    gjs\n",
      "4   12-06-2023   12:05:11  12:05:17      6           sublime_text\n",
      "5   12-06-2023   12:05:18  12:05:27      9                   Null\n",
      "6   12-06-2023   12:05:28  12:06:45     77           sublime_text\n",
      "7   12-06-2023   12:06:46  12:06:51      5  gnome-terminal-server\n",
      "8   12-06-2023   12:06:52  12:06:58      6           sublime_text\n",
      "9   12-06-2023   12:06:59  12:06:59      0  gnome-terminal-server\n",
      "10  12-06-2023   12:07:00  12:07:52     52           sublime_text\n",
      "11  12-06-2023   12:07:53  12:08:00      7               nautilus\n",
      "12  12-06-2023   12:08:01  12:08:01      0                   Null\n",
      "13  12-06-2023   12:08:02  12:08:14     12            soffice.bin\n",
      "14  12-06-2023   12:08:15  12:08:15      0               nautilus\n",
      "15  12-06-2023   12:08:16  12:08:16      0            soffice.bin\n",
      "16  12-06-2023   12:08:17  12:08:18      1               nautilus\n",
      "17  12-06-2023   12:08:19  12:08:19      0                   Null\n",
      "18  12-06-2023   12:08:20  12:13:14    294                firefox\n",
      "19  12-06-2023   12:13:15  12:13:16      1                   Null\n",
      "20  12-06-2023   12:13:17  12:13:19      2                firefox\n",
      "21  12-06-2023   12:13:20  12:13:21      1                   Null\n",
      "22  12-06-2023   12:13:22  12:13:22      0           sublime_text\n",
      "23  12-06-2023   12:13:23  12:13:26      3                firefox\n",
      "24  12-06-2023   12:13:27  12:13:32      5                   Null\n"
     ]
    }
   ],
   "source": [
    "\t\t\"\"\"Converting the data set into the fomat\n",
    "\t\t   DATE        START_TIME     END_TIME USAGE   APPLICATION\n",
    "\t\t   11-01-2022  11:49:42       11:50:33    52   thunar     \"\"\"\n",
    "\n",
    "# cleaned_app_data=\"clean_app_data.csv\"    #name of file in which w'll store clean data\n",
    "new_df = pd.DataFrame(columns=[\"DATE\", \"START_TIME\", \"END_TIME\",\"USAGE\",\"APPLICATION\"])\n",
    "\n",
    "def time_difference(time1, time2):\n",
    "    \"\"\"This funcation take 2 time as a parameter and returns total time differnce in seconds\"\"\"\n",
    "    format_str = '%H:%M:%S'\n",
    "    time_obj1 = datetime.strptime(time1, format_str)\n",
    "    time_obj2 = datetime.strptime(time2, format_str)\n",
    "    time_diff = time_obj2 - time_obj1\n",
    "    return int(time_diff.total_seconds())\n",
    "\n",
    "start_index=0                    #setting the index for the first data in new df and subsequently to set the starting time of application further\n",
    "# last_row_index = df.index[-1]    #fetches the last row of df\n",
    "try:\n",
    "    for index, row in df.iterrows():                                            #iterating through whole data set \n",
    "        if (df.loc[index,\"APPLICATION\"]!=df.loc[(index+1),\"APPLICATION\"]) or time_difference(df.loc[index,\"TIME\"], df.loc[(index+1),\"TIME\"]) > 5 or (df.loc[index,\"DATE\"]!=df.loc[(index+1),\"DATE\"]):\n",
    "            # If it's a new application or time difference is >= 5 seconds or date is different, add the row to new_df\n",
    "            new_df.loc[len(new_df)] = [df.loc[index,\"DATE\"],df.loc[start_index,\"TIME\"],df.loc[index,\"TIME\"],time_difference(df.loc[start_index,\"TIME\"], df.loc[index,\"TIME\"]),df.loc[index,\"APPLICATION\"]]   #appending data to new df\n",
    "            start_index=index+1                                                   #setting the index for the next application start time\n",
    "except:\n",
    "    pass\n",
    "\n",
    "print(new_df.head(25))\n",
    "        "
   ]
  },
  {
   "cell_type": "markdown",
   "id": "ebc5e560",
   "metadata": {},
   "source": [
    "# Show the pie chart of the current day computer usage in pie chart"
   ]
  },
  {
   "cell_type": "code",
   "execution_count": 7,
   "id": "6a5bfa47-9b14-4e50-9600-b5b43f63d90d",
   "metadata": {},
   "outputs": [
    {
     "name": "stdout",
     "output_type": "stream",
     "text": [
      "12-06-2023\n"
     ]
    }
   ],
   "source": [
    "# today = datetime.now().strftime(\"%d-%m-%Y\")  #get's todays date\n",
    "today=\"12-06-2023\"\n",
    "print(today)"
   ]
  },
  {
   "cell_type": "code",
   "execution_count": 9,
   "id": "249037ff",
   "metadata": {},
   "outputs": [
    {
     "name": "stdout",
     "output_type": "stream",
     "text": [
      "APPLICATION\n",
      "firefox                  7894\n",
      "sublime_text             3409\n",
      "soffice.bin               635\n",
      "gnome-system-monitor      393\n",
      "gnome-terminal-server     277\n",
      "python3                   208\n",
      "gnome-calculator          146\n",
      "nautilus                  124\n",
      "rhythmbox                 122\n",
      "totem                      70\n",
      "Null                       57\n",
      "gjs                         5\n",
      "gedit                       3\n",
      "Name: USAGE, dtype: int64\n"
     ]
    }
   ],
   "source": [
    "# today_data=df.loc[(df['DATE']==today)&(df['APPLICATION']!='xfdesktop'),['USAGE','APPLICATION']]\n",
    "today_data=new_df.loc[(new_df['DATE']==today)&(new_df['APPLICATION']!='xfdesktop'),['USAGE','APPLICATION']] #gets all the log data which has today's date to make graph\n",
    "today_data\n",
    "data=today_data.groupby('APPLICATION')['USAGE'].sum()   #groups the application based on categories\n",
    "# print(data)\n",
    "data=data.sort_values(ascending=False)                  #sorts the data\n",
    "print(data)\n",
    "df.plot(x='APPLICATION', y='TIME', kind='scatter')\t"
   ]
  },
  {
   "cell_type": "code",
   "execution_count": null,
   "id": "ed3440fb",
   "metadata": {},
   "outputs": [],
   "source": []
  }
 ],
 "metadata": {
  "kernelspec": {
   "display_name": "Python 3 (ipykernel)",
   "language": "python",
   "name": "python3"
  },
  "language_info": {
   "codemirror_mode": {
    "name": "ipython",
    "version": 3
   },
   "file_extension": ".py",
   "mimetype": "text/x-python",
   "name": "python",
   "nbconvert_exporter": "python",
   "pygments_lexer": "ipython3",
   "version": "3.10.12"
  }
 },
 "nbformat": 4,
 "nbformat_minor": 5
}
