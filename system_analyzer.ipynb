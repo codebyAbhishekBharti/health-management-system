{
 "cells": [
  {
   "cell_type": "code",
   "execution_count": 1,
   "id": "7c60f8d2",
   "metadata": {},
   "outputs": [],
   "source": [
    "import pandas as pd\n",
    "from datetime import datetime"
   ]
  },
  {
   "cell_type": "code",
   "execution_count": 2,
   "id": "f9f7e2d2",
   "metadata": {},
   "outputs": [],
   "source": [
    "df=pd.read_csv(\"app_data.log\") #location of log file"
   ]
  },
  {
   "cell_type": "code",
   "execution_count": 3,
   "id": "79d8c5cb",
   "metadata": {},
   "outputs": [
    {
     "name": "stdout",
     "output_type": "stream",
     "text": [
      "         DATE      TIME APPLICATION\n",
      "0  12-06-2023  12:05:01    nautilus\n",
      "1  12-06-2023  12:05:03    nautilus\n",
      "2  12-06-2023  12:05:04       gedit\n",
      "3  12-06-2023  12:05:05       gedit\n",
      "4  12-06-2023  12:05:06       gedit\n"
     ]
    }
   ],
   "source": [
    "print(df.head(5))"
   ]
  },
  {
   "cell_type": "markdown",
   "id": "087c077b",
   "metadata": {},
   "source": [
    "# Data Cleaning"
   ]
  },
  {
   "cell_type": "code",
   "execution_count": 13,
   "id": "7a211404",
   "metadata": {
    "scrolled": true
   },
   "outputs": [
    {
     "name": "stdout",
     "output_type": "stream",
     "text": [
      "         DATE START_TIME  END_TIME  USAGE   APPLICATION\n",
      "0  12-06-2023   12:05:01  12:05:03      2      nautilus\n",
      "1  12-06-2023   12:05:03  12:05:07      4         gedit\n",
      "2  12-06-2023   12:05:07  12:05:08      1      nautilus\n",
      "3  12-06-2023   12:05:08  12:05:10      2           gjs\n",
      "4  12-06-2023   12:05:10  12:05:17      7  sublime_text\n"
     ]
    }
   ],
   "source": [
    "\t\t\"\"\"Converting the data set into the fomat\n",
    "\t\t   DATE        START_TIME     END_TIME USAGE   APPLICATION\n",
    "\t\t   11-01-2022  11:49:42       11:50:33    52   thunar     \"\"\"\n",
    "\n",
    "# cleaned_app_data=\"clean_app_data.csv\"    #name of file in which w'll store clean data\n",
    "new_df = pd.DataFrame(columns=[\"DATE\", \"START_TIME\", \"END_TIME\",\"USAGE\",\"APPLICATION\"])\n",
    "\n",
    "def time_difference(time1, time2):\n",
    "    \"\"\"This funcation take 2 time as a parameter and returns total time differnce in seconds\"\"\"\n",
    "    format_str = '%H:%M:%S'\n",
    "    time_obj1 = datetime.strptime(time1, format_str)\n",
    "    time_obj2 = datetime.strptime(time2, format_str)\n",
    "    time_diff = time_obj2 - time_obj1\n",
    "    return int(time_diff.total_seconds())\n",
    "\n",
    "start_index=0                    #setting the index for the first data in new df and subsequently to set the starting time of application further\n",
    "# last_row_index = df.index[-1]    #fetches the last row of df\n",
    "try:\n",
    "    for index, row in df.iterrows():                                            #iterating through whole data set \n",
    "        if (df.loc[index,\"APPLICATION\"]==df.loc[(index+1),\"APPLICATION\"]) and time_difference(df.loc[index,\"TIME\"], df.loc[(index+1),\"TIME\"]) < 5 and (df.loc[index,\"DATE\"]==df.loc[(index+1),\"DATE\"]):\n",
    "            # If it's a new application or time difference is >= 5 seconds or date is different, add the row to new_df\n",
    "                pass\n",
    "        else:\n",
    "            new_df.loc[len(new_df)] = [df.loc[index,\"DATE\"],df.loc[start_index,\"TIME\"],df.loc[index,\"TIME\"],time_difference(df.loc[start_index,\"TIME\"], df.loc[index,\"TIME\"]),df.loc[index,\"APPLICATION\"]]   #appending data to new df\n",
    "            start_index=index                                                   #setting the index for the next application start time\n",
    "except:\n",
    "    pass\n",
    "\n",
    "print(new_df.head())\n",
    "        "
   ]
  },
  {
   "cell_type": "code",
   "execution_count": 12,
   "id": "f5bb5159-39ea-456f-a8e2-04358278da9d",
   "metadata": {},
   "outputs": [
    {
     "name": "stdout",
     "output_type": "stream",
     "text": [
      "         DATE START_TIME  END_TIME  USAGE   APPLICATION\n",
      "0  12-06-2023   12:05:01  12:05:03      2      nautilus\n",
      "1  12-06-2023   12:05:03  12:05:07      4         gedit\n",
      "2  12-06-2023   12:05:07  12:05:08      1      nautilus\n",
      "3  12-06-2023   12:05:08  12:05:10      2           gjs\n",
      "4  12-06-2023   12:05:10  12:05:17      7  sublime_text\n"
     ]
    }
   ],
   "source": [
    "prev_row = None\n",
    "for index, row in df.iterrows():\n",
    "    if prev_row is None or (row[\"APPLICATION\"] != prev_row[\"APPLICATION\"]) or (time_difference(prev_row[\"TIME\"], row[\"TIME\"]) >= 5) or (row[\"DATE\"] != prev_row[\"DATE\"]):\n",
    "        # If it's a new application or time difference is >= 5 seconds or date is different, add the row to new_df\n",
    "        new_df.loc[len(new_df)] = [row[\"DATE\"], row[\"TIME\"], row[\"TIME\"], 0, row[\"APPLICATION\"]]\n",
    "        start_index = index\n",
    "    else:\n",
    "        # Update the END_TIME and USAGE columns for the previous row\n",
    "        new_df.at[len(new_df) - 1, \"END_TIME\"] = row[\"TIME\"]\n",
    "        new_df.at[len(new_df) - 1, \"USAGE\"] = time_difference(new_df.at[len(new_df) - 1, \"START_TIME\"], row[\"TIME\"])\n",
    "\n",
    "    # Update the previous row\n",
    "    prev_row = row\n",
    "print(new_df.head())"
   ]
  },
  {
   "cell_type": "markdown",
   "id": "ebc5e560",
   "metadata": {},
   "source": [
    "# Show the pie chart of the current day computer usage in pie chart"
   ]
  },
  {
   "cell_type": "code",
   "execution_count": null,
   "id": "82225bb0",
   "metadata": {},
   "outputs": [],
   "source": []
  }
 ],
 "metadata": {
  "kernelspec": {
   "display_name": "Python 3 (ipykernel)",
   "language": "python",
   "name": "python3"
  },
  "language_info": {
   "codemirror_mode": {
    "name": "ipython",
    "version": 3
   },
   "file_extension": ".py",
   "mimetype": "text/x-python",
   "name": "python",
   "nbconvert_exporter": "python",
   "pygments_lexer": "ipython3",
   "version": "3.10.12"
  }
 },
 "nbformat": 4,
 "nbformat_minor": 5
}
